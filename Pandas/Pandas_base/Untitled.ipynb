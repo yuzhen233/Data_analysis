{
 "cells": [
  {
   "cell_type": "code",
   "execution_count": 1,
   "metadata": {},
   "outputs": [],
   "source": [
    "import numpy as np\n",
    "import pandas as pd\n",
    "import matplotlib.pyplot as plt\n",
    "\n",
    "from pandas import Series, DataFrame"
   ]
  },
  {
   "cell_type": "markdown",
   "metadata": {},
   "source": [
    "# `1)Series`"
   ]
  },
  {
   "cell_type": "markdown",
   "metadata": {},
   "source": [
    "### `1.1)Series的创建`\n",
    "\n",
    "`Series(data=None, index=None, dtype=None, name=None, copy=False, fastpath=False) `\n",
    "\n",
    "`One-dimensional ndarray with axis labels (including time series).`"
   ]
  },
  {
   "cell_type": "code",
   "execution_count": 7,
   "metadata": {
    "scrolled": true
   },
   "outputs": [
    {
     "data": {
      "text/plain": [
       "p    0\n",
       "y    1\n",
       "t    2\n",
       "h    3\n",
       "o    4\n",
       "n    5\n",
       "j    6\n",
       "a    7\n",
       "v    8\n",
       "a    9\n",
       "dtype: int64"
      ]
     },
     "metadata": {},
     "output_type": "display_data"
    }
   ],
   "source": [
    "data = np.array(list(range(10)))\n",
    "# 由ndarray创建的series是引用而不是副本，对series元素的改变也会改变ndarray的元素\n",
    "# series存放的数据必须是1维的\n",
    "data_series = Series(data, index=(list(\"pythonjava\")))\n",
    "display(data_series)"
   ]
  },
  {
   "cell_type": "markdown",
   "metadata": {},
   "source": [
    "### `1.2)Series的索引与切片`\n",
    "#### `1.2.1)显式索引`"
   ]
  },
  {
   "cell_type": "code",
   "execution_count": 12,
   "metadata": {},
   "outputs": [
    {
     "name": "stdout",
     "output_type": "stream",
     "text": [
      "1\n"
     ]
    }
   ],
   "source": [
    "print(data_series.loc['y'])"
   ]
  },
  {
   "cell_type": "markdown",
   "metadata": {},
   "source": [
    "#### `1.2.2)隐式索引`"
   ]
  },
  {
   "cell_type": "code",
   "execution_count": 15,
   "metadata": {},
   "outputs": [
    {
     "name": "stdout",
     "output_type": "stream",
     "text": [
      "1\n"
     ]
    }
   ],
   "source": [
    "print(data_series.iloc[1])"
   ]
  },
  {
   "cell_type": "markdown",
   "metadata": {},
   "source": [
    "#### `1.2.3)切片`"
   ]
  },
  {
   "cell_type": "code",
   "execution_count": 18,
   "metadata": {
    "scrolled": true
   },
   "outputs": [
    {
     "name": "stdout",
     "output_type": "stream",
     "text": [
      "p    0\n",
      "y    1\n",
      "t    2\n",
      "h    3\n",
      "o    4\n",
      "n    5\n",
      "dtype: int64\n",
      "p    0\n",
      "y    1\n",
      "t    2\n",
      "h    3\n",
      "o    4\n",
      "n    5\n",
      "dtype: int64\n"
     ]
    }
   ],
   "source": [
    "result_series = data_series.loc['p':'n']\n",
    "print(result_series)\n",
    "result_series = data_series.iloc[0:6]\n",
    "print(result_series)"
   ]
  },
  {
   "cell_type": "markdown",
   "metadata": {},
   "source": [
    "### `1.3)Series的基本概念`"
   ]
  },
  {
   "cell_type": "code",
   "execution_count": 20,
   "metadata": {},
   "outputs": [
    {
     "name": "stdout",
     "output_type": "stream",
     "text": [
      "(10,) 10 Index(['p', 'y', 't', 'h', 'o', 'n', 'j', 'a', 'v', 'a'], dtype='object') [0 1 2 3 4 5 6 7 8 9]\n"
     ]
    }
   ],
   "source": [
    "print(data_series.shape, data_series.size, data_series.index, data_series.values)"
   ]
  },
  {
   "cell_type": "markdown",
   "metadata": {},
   "source": [
    "#### `1.3.1)data_series.head(n=5)`\n",
    "\n",
    "`Return the first n rows.`"
   ]
  },
  {
   "cell_type": "code",
   "execution_count": 21,
   "metadata": {
    "scrolled": false
   },
   "outputs": [
    {
     "name": "stdout",
     "output_type": "stream",
     "text": [
      "p    0\n",
      "y    1\n",
      "t    2\n",
      "h    3\n",
      "o    4\n",
      "dtype: int64\n"
     ]
    }
   ],
   "source": [
    "print(data_series.head())"
   ]
  },
  {
   "cell_type": "markdown",
   "metadata": {},
   "source": [
    "#### `1.3.2)data_series.tail(n=5)`\n",
    "\n",
    "`Return the last n rows.`"
   ]
  },
  {
   "cell_type": "code",
   "execution_count": 22,
   "metadata": {
    "scrolled": true
   },
   "outputs": [
    {
     "name": "stdout",
     "output_type": "stream",
     "text": [
      "n    5\n",
      "j    6\n",
      "a    7\n",
      "v    8\n",
      "a    9\n",
      "dtype: int64\n"
     ]
    }
   ],
   "source": [
    "print(data_series.tail())"
   ]
  },
  {
   "cell_type": "markdown",
   "metadata": {},
   "source": [
    "#### `1.3.3)数据缺失`"
   ]
  },
  {
   "cell_type": "code",
   "execution_count": 28,
   "metadata": {},
   "outputs": [
    {
     "name": "stdout",
     "output_type": "stream",
     "text": [
      "j     1.0\n",
      "a    23.0\n",
      "v     NaN\n",
      "a     NaN\n",
      "dtype: float64\n",
      "<class 'NoneType'> <class 'float'>\n"
     ]
    }
   ],
   "source": [
    "data_series = Series([1, 23, None, np.nan], index=(list(\"java\")))\n",
    "print(data_series)\n",
    "print(type(None), type(np.nan))"
   ]
  },
  {
   "cell_type": "markdown",
   "metadata": {},
   "source": [
    "`data_series.isnull()`\n",
    "\n",
    "`Return a boolean same-sized object indicating if the values are NA.`"
   ]
  },
  {
   "cell_type": "code",
   "execution_count": 32,
   "metadata": {
    "scrolled": true
   },
   "outputs": [
    {
     "name": "stdout",
     "output_type": "stream",
     "text": [
      "j    False\n",
      "a    False\n",
      "v     True\n",
      "a     True\n",
      "dtype: bool\n"
     ]
    }
   ],
   "source": [
    "isnull_series = data_series.isnull()\n",
    "print(isnull_series)"
   ]
  },
  {
   "cell_type": "markdown",
   "metadata": {},
   "source": [
    "`data_series.notnull()`\n",
    "\n",
    "`Return a boolean same-sized object indicating if the values are not NA.`"
   ]
  },
  {
   "cell_type": "code",
   "execution_count": 34,
   "metadata": {
    "scrolled": true
   },
   "outputs": [
    {
     "name": "stdout",
     "output_type": "stream",
     "text": [
      "j     True\n",
      "a     True\n",
      "v    False\n",
      "a    False\n",
      "dtype: bool\n",
      "j     1.0\n",
      "a    23.0\n",
      "dtype: float64\n"
     ]
    }
   ],
   "source": [
    "notnull_series = data_series.notnull()\n",
    "print(notnull_series)\n",
    "# 剔除空数据\n",
    "result_series = data_series[notnull_series]\n",
    "print(result_series)"
   ]
  },
  {
   "cell_type": "markdown",
   "metadata": {},
   "source": [
    "#### `1.3.4)name`"
   ]
  },
  {
   "cell_type": "code",
   "execution_count": 35,
   "metadata": {},
   "outputs": [
    {
     "name": "stdout",
     "output_type": "stream",
     "text": [
      "java\n"
     ]
    }
   ],
   "source": [
    "data_series.name = 'java'\n",
    "print(data_series.name)"
   ]
  },
  {
   "cell_type": "markdown",
   "metadata": {},
   "source": [
    "### `1.4)Series的运算`"
   ]
  },
  {
   "cell_type": "code",
   "execution_count": 40,
   "metadata": {
    "scrolled": true
   },
   "outputs": [
    {
     "name": "stdout",
     "output_type": "stream",
     "text": [
      "j     1.0\n",
      "a    23.0\n",
      "v     NaN\n",
      "a     NaN\n",
      "Name: java, dtype: float64\n",
      "j    11.0\n",
      "a    33.0\n",
      "v    10.0\n",
      "a    10.0\n",
      "Name: java, dtype: float64\n"
     ]
    }
   ],
   "source": [
    "print(data_series)\n",
    "# fill_value: Fill missing (NaN) values with this value.\n",
    "print(data_series.add(10, fill_value=0))"
   ]
  },
  {
   "cell_type": "code",
   "execution_count": 45,
   "metadata": {
    "scrolled": true
   },
   "outputs": [],
   "source": [
    "s1 = Series([5, 6, 7, 8, 9], index=[0, 1, 2, 3, 4])\n",
    "s2 = Series([5, 6, 7, 8, 9], index=[2, 3, 4, 5, 6])"
   ]
  },
  {
   "cell_type": "code",
   "execution_count": 47,
   "metadata": {},
   "outputs": [
    {
     "name": "stdout",
     "output_type": "stream",
     "text": [
      "0     NaN\n",
      "1     NaN\n",
      "2    12.0\n",
      "3    14.0\n",
      "4    16.0\n",
      "5     NaN\n",
      "6     NaN\n",
      "dtype: float64\n"
     ]
    }
   ],
   "source": [
    "# 索引相同的进行相加，索引不同的置为NaN\n",
    "print(s1 + s2)"
   ]
  },
  {
   "cell_type": "code",
   "execution_count": 49,
   "metadata": {},
   "outputs": [
    {
     "name": "stdout",
     "output_type": "stream",
     "text": [
      "0     5.0\n",
      "1     6.0\n",
      "2    12.0\n",
      "3    14.0\n",
      "4    16.0\n",
      "5     8.0\n",
      "6     9.0\n",
      "dtype: float64\n"
     ]
    }
   ],
   "source": [
    "# 使用add方法保留索引不同的值\n",
    "print(s1.add(s2, fill_value=0))"
   ]
  },
  {
   "cell_type": "markdown",
   "metadata": {},
   "source": [
    "# `2)DataFrame`"
   ]
  },
  {
   "cell_type": "markdown",
   "metadata": {},
   "source": [
    "### `2.1)DataFrame的创建`\n",
    "`DataFrame(data=None, index=None, columns=None, dtype=None, copy=False)`\n",
    "  \n",
    "`Two-dimensional size-mutable, potentially heterogeneous tabular data`"
   ]
  },
  {
   "cell_type": "code",
   "execution_count": 53,
   "metadata": {},
   "outputs": [
    {
     "name": "stdout",
     "output_type": "stream",
     "text": [
      "   age sex  height\n",
      "A   24   f     170\n",
      "B   23   m     175\n",
      "C   20   m     168\n",
      "D   19   f     172\n"
     ]
    }
   ],
   "source": [
    "df = DataFrame({'height':[170, 175, 168, 172], 'age':np.random.randint(18, 25, size=4), 'sex':['f', 'm', 'm', 'f']}\n",
    "               , index=list('ABCD'), columns=['age', 'sex', 'height'])\n",
    "print(df)"
   ]
  },
  {
   "cell_type": "markdown",
   "metadata": {},
   "source": [
    "### `2.2)DataFrame的基本信息`"
   ]
  },
  {
   "cell_type": "code",
   "execution_count": 55,
   "metadata": {
    "scrolled": true
   },
   "outputs": [
    {
     "name": "stdout",
     "output_type": "stream",
     "text": [
      "(4, 3)\n",
      "Index(['A', 'B', 'C', 'D'], dtype='object')\n",
      "Index(['age', 'sex', 'height'], dtype='object')\n",
      "[[24 'f' 170]\n",
      " [23 'm' 175]\n",
      " [20 'm' 168]\n",
      " [19 'f' 172]]\n"
     ]
    }
   ],
   "source": [
    "print(df.shape, df.index, df.columns, df.values, sep='\\n')"
   ]
  },
  {
   "cell_type": "markdown",
   "metadata": {},
   "source": [
    "### `2.3)DataFrame的索引`\n",
    "#### `2.3.1)列索引`"
   ]
  },
  {
   "cell_type": "code",
   "execution_count": 78,
   "metadata": {
    "scrolled": true
   },
   "outputs": [
    {
     "name": "stdout",
     "output_type": "stream",
     "text": [
      "A    24\n",
      "B    23\n",
      "C    20\n",
      "D    19\n",
      "Name: age, dtype: int64\n",
      "<class 'pandas.core.series.Series'>\n",
      "A    24\n",
      "B    23\n",
      "C    20\n",
      "D    19\n",
      "Name: age, dtype: int64\n",
      "<class 'pandas.core.series.Series'>\n"
     ]
    }
   ],
   "source": [
    "df_age = df['age']\n",
    "print(df_age, type(df_age), sep='\\n')\n",
    "# 列是属性\n",
    "df_age = df.age\n",
    "print(df_age, type(df_age), sep='\\n')"
   ]
  },
  {
   "cell_type": "markdown",
   "metadata": {},
   "source": [
    "#### `2.3.2)行索引`"
   ]
  },
  {
   "cell_type": "code",
   "execution_count": 71,
   "metadata": {
    "scrolled": true
   },
   "outputs": [
    {
     "name": "stdout",
     "output_type": "stream",
     "text": [
      "age        24\n",
      "sex         f\n",
      "height    170\n",
      "Name: A, dtype: object\n",
      "<class 'pandas.core.series.Series'>\n"
     ]
    }
   ],
   "source": [
    "print(df.loc['A'], type(df.loc['A']), sep='\\n')"
   ]
  },
  {
   "cell_type": "code",
   "execution_count": 73,
   "metadata": {
    "scrolled": true
   },
   "outputs": [
    {
     "name": "stdout",
     "output_type": "stream",
     "text": [
      "   age sex  height\n",
      "A   24   f     170\n",
      "<class 'pandas.core.frame.DataFrame'>\n"
     ]
    }
   ],
   "source": [
    "print(df.loc[['A']], type(df.loc[['A']]), sep='\\n')"
   ]
  },
  {
   "cell_type": "code",
   "execution_count": 84,
   "metadata": {
    "scrolled": true
   },
   "outputs": [
    {
     "name": "stdout",
     "output_type": "stream",
     "text": [
      "   age sex  height\n",
      "A   24   f     170\n",
      "C   20   m     168\n",
      "<class 'pandas.core.frame.DataFrame'>\n"
     ]
    }
   ],
   "source": [
    "print(df.loc[['A', 'C']], type(df.loc[['A', 'C']]), sep='\\n')"
   ]
  },
  {
   "cell_type": "code",
   "execution_count": 80,
   "metadata": {
    "scrolled": true
   },
   "outputs": [
    {
     "name": "stdout",
     "output_type": "stream",
     "text": [
      "   age sex  height\n",
      "A   24   f     170\n",
      "B   23   m     175\n",
      "C   20   m     168\n"
     ]
    }
   ],
   "source": [
    "# 只有行切片，没有列切片\n",
    "# 左闭右闭\n",
    "print(df.loc['A':'C'])"
   ]
  },
  {
   "cell_type": "code",
   "execution_count": 83,
   "metadata": {},
   "outputs": [
    {
     "name": "stdout",
     "output_type": "stream",
     "text": [
      "   age sex  height\n",
      "A   24   f     170\n",
      "B   23   m     175\n"
     ]
    }
   ],
   "source": [
    "# 左闭右开\n",
    "print(df.iloc[0:2])"
   ]
  },
  {
   "cell_type": "code",
   "execution_count": 90,
   "metadata": {
    "scrolled": true
   },
   "outputs": [
    {
     "name": "stdout",
     "output_type": "stream",
     "text": [
      "168\n"
     ]
    }
   ],
   "source": [
    "print(df['height']['C'])"
   ]
  },
  {
   "cell_type": "code",
   "execution_count": 85,
   "metadata": {
    "scrolled": false
   },
   "outputs": [
    {
     "name": "stdout",
     "output_type": "stream",
     "text": [
      "168\n"
     ]
    }
   ],
   "source": [
    "print(df.loc['C']['height'])"
   ]
  },
  {
   "cell_type": "markdown",
   "metadata": {},
   "source": [
    "### `2.4)DataFrame的运算`\n",
    "#### `2.4.1)DaraFrame之间的运算`"
   ]
  },
  {
   "cell_type": "code",
   "execution_count": 91,
   "metadata": {
    "scrolled": true
   },
   "outputs": [
    {
     "name": "stdout",
     "output_type": "stream",
     "text": [
      "     语文   数学   英语  python\n",
      "张三  139  123  111     129\n",
      "李四  118   89   80     112\n",
      "王五  102  126   67     128\n",
      "赵六  146  111   95      65\n"
     ]
    }
   ],
   "source": [
    "score_1 = DataFrame(np.random.randint(60,150, size=(4, 4)), index=['张三', '李四', '王五', '赵六']\n",
    "                    , columns=['语文', '数学', '英语', 'python'])\n",
    "print(score_1)"
   ]
  },
  {
   "cell_type": "code",
   "execution_count": 97,
   "metadata": {
    "scrolled": true
   },
   "outputs": [
    {
     "name": "stdout",
     "output_type": "stream",
     "text": [
      "     数学  英语  python\n",
      "张三   77  91     138\n",
      "李四  136  77      75\n",
      "王五  126  74     123\n",
      "赵六   97  68     126\n",
      "钱七   89  72      79\n"
     ]
    }
   ],
   "source": [
    "score_2 = DataFrame(np.random.randint(60,150, size=(5, 3)), index=['张三', '李四', '王五', '赵六', '钱七']\n",
    "                    , columns=['数学', '英语', 'python'])\n",
    "print(score_2)"
   ]
  },
  {
   "cell_type": "code",
   "execution_count": 98,
   "metadata": {
    "scrolled": false
   },
   "outputs": [
    {
     "name": "stdout",
     "output_type": "stream",
     "text": [
      "    python     数学     英语  语文\n",
      "张三   267.0  200.0  202.0 NaN\n",
      "李四   187.0  225.0  157.0 NaN\n",
      "王五   251.0  252.0  141.0 NaN\n",
      "赵六   191.0  208.0  163.0 NaN\n",
      "钱七     NaN    NaN    NaN NaN\n"
     ]
    }
   ],
   "source": [
    "print(score_1 + score_2)"
   ]
  },
  {
   "cell_type": "code",
   "execution_count": 99,
   "metadata": {
    "scrolled": true
   },
   "outputs": [
    {
     "name": "stdout",
     "output_type": "stream",
     "text": [
      "    python     数学     英语     语文\n",
      "张三   267.0  200.0  202.0  139.0\n",
      "李四   187.0  225.0  157.0  118.0\n",
      "王五   251.0  252.0  141.0  102.0\n",
      "赵六   191.0  208.0  163.0  146.0\n",
      "钱七    79.0   89.0   72.0    NaN\n"
     ]
    }
   ],
   "source": [
    "print(score_1.add(score_2, fill_value=0))"
   ]
  },
  {
   "cell_type": "markdown",
   "metadata": {},
   "source": [
    "#### `2.4.2)Series与DaraFrame之间的运算`"
   ]
  },
  {
   "cell_type": "code",
   "execution_count": 104,
   "metadata": {
    "scrolled": true
   },
   "outputs": [
    {
     "name": "stdout",
     "output_type": "stream",
     "text": [
      "    语文   数学   英语  python\n",
      "张三  82  148  114     107\n",
      "李四  72  128  125      65\n",
      "王五  87  144  120      62\n",
      "赵六  77   84  107      85\n"
     ]
    }
   ],
   "source": [
    "score_1 = DataFrame(np.random.randint(60,150, size=(4, 4)), index=['张三', '李四', '王五', '赵六']\n",
    "                    , columns=['语文', '数学', '英语', 'python'])\n",
    "print(score_1)"
   ]
  },
  {
   "cell_type": "code",
   "execution_count": 105,
   "metadata": {
    "scrolled": false
   },
   "outputs": [
    {
     "name": "stdout",
     "output_type": "stream",
     "text": [
      "     语文   数学   英语  python\n",
      "张三  140  106  104     149\n",
      "李四  103   70  127     121\n",
      "王五   72   65   93      72\n",
      "赵六  137  115  128      61\n"
     ]
    }
   ],
   "source": [
    "score_2= DataFrame(np.random.randint(60,150, size=(4, 4)), index=['张三', '李四', '王五', '赵六']\n",
    "                    , columns=['语文', '数学', '英语', 'python'])\n",
    "print(score_2)"
   ]
  },
  {
   "cell_type": "code",
   "execution_count": 112,
   "metadata": {
    "scrolled": true
   },
   "outputs": [
    {
     "name": "stdout",
     "output_type": "stream",
     "text": [
      "语文         82\n",
      "数学        148\n",
      "英语        114\n",
      "python    107\n",
      "Name: 张三, dtype: int64\n",
      "     语文   数学   英语  python\n",
      "张三  222  254  218     256\n",
      "李四  185  218  241     228\n",
      "王五  154  213  207     179\n",
      "赵六  219  263  242     168\n"
     ]
    }
   ],
   "source": [
    "zhangsan_1 = score_1.loc['张三']\n",
    "print(zhangsan_1)\n",
    "# 对所有列生效\n",
    "print(score_2.add(zhangsan_1, axis='columns'))"
   ]
  },
  {
   "cell_type": "markdown",
   "metadata": {},
   "source": [
    "# `3)利用pandas进行数据清洗`"
   ]
  },
  {
   "cell_type": "code",
   "execution_count": 130,
   "metadata": {},
   "outputs": [
    {
     "name": "stdout",
     "output_type": "stream",
     "text": [
      "   age  height  sex\n",
      "A   13     170  NaN\n",
      "B   24     168  NaN\n",
      "C   32     172  NaN\n",
      "D   45     167  NaN\n"
     ]
    }
   ],
   "source": [
    "score = DataFrame({'age':[13, 24, 32, 45], 'height':[170, 168, 172, 167]}, \n",
    "                  index=list(\"ABCD\"), columns=['age', 'height', 'sex'])\n",
    "print(score)"
   ]
  },
  {
   "cell_type": "code",
   "execution_count": 132,
   "metadata": {
    "collapsed": true
   },
   "outputs": [
    {
     "name": "stdout",
     "output_type": "stream",
     "text": [
      "   age  height  sex\n",
      "A   13     170  NaN\n",
      "B   24     168    f\n",
      "C   32     172    f\n",
      "D   45     167  NaN\n"
     ]
    },
    {
     "name": "stderr",
     "output_type": "stream",
     "text": [
      "/usr/local/anaconda3/lib/python3.6/site-packages/ipykernel_launcher.py:1: SettingWithCopyWarning: \n",
      "A value is trying to be set on a copy of a slice from a DataFrame\n",
      "\n",
      "See the caveats in the documentation: http://pandas.pydata.org/pandas-docs/stable/indexing.html#indexing-view-versus-copy\n",
      "  \"\"\"Entry point for launching an IPython kernel.\n"
     ]
    }
   ],
   "source": [
    "score.sex['B':'C'] = 'f'"
   ]
  },
  {
   "cell_type": "code",
   "execution_count": 133,
   "metadata": {},
   "outputs": [
    {
     "name": "stdout",
     "output_type": "stream",
     "text": [
      "   age  height  sex\n",
      "A   13     170  NaN\n",
      "B   24     168    f\n",
      "C   32     172    f\n",
      "D   45     167  NaN\n"
     ]
    }
   ],
   "source": [
    "print(score)"
   ]
  },
  {
   "cell_type": "markdown",
   "metadata": {},
   "source": [
    "#### `3.1)返回含有空数据的行`"
   ]
  },
  {
   "cell_type": "code",
   "execution_count": 141,
   "metadata": {},
   "outputs": [],
   "source": [
    "score_isnull = score.isnull().any(axis=1)"
   ]
  },
  {
   "cell_type": "code",
   "execution_count": 142,
   "metadata": {
    "scrolled": true
   },
   "outputs": [
    {
     "name": "stdout",
     "output_type": "stream",
     "text": [
      "   age  height  sex\n",
      "A   13     170  NaN\n",
      "D   45     167  NaN\n"
     ]
    }
   ],
   "source": [
    "print(score[score_isnull])"
   ]
  },
  {
   "cell_type": "markdown",
   "metadata": {},
   "source": [
    "#### `3.2)返回非空数据的行`"
   ]
  },
  {
   "cell_type": "code",
   "execution_count": 148,
   "metadata": {},
   "outputs": [
    {
     "name": "stdout",
     "output_type": "stream",
     "text": [
      "A    False\n",
      "B     True\n",
      "C     True\n",
      "D    False\n",
      "dtype: bool\n"
     ]
    }
   ],
   "source": [
    "score_notnull = score.notnull().all(axis=1)\n",
    "print(score_notnull)"
   ]
  },
  {
   "cell_type": "code",
   "execution_count": 149,
   "metadata": {
    "scrolled": true
   },
   "outputs": [
    {
     "name": "stdout",
     "output_type": "stream",
     "text": [
      "   age  height sex\n",
      "B   24     168   f\n",
      "C   32     172   f\n"
     ]
    }
   ],
   "source": [
    "print(score[score_notnull])"
   ]
  },
  {
   "cell_type": "markdown",
   "metadata": {},
   "source": [
    "#### `3.3)过滤空数据`"
   ]
  },
  {
   "cell_type": "code",
   "execution_count": 150,
   "metadata": {
    "scrolled": false
   },
   "outputs": [
    {
     "name": "stdout",
     "output_type": "stream",
     "text": [
      "   age  height  sex\n",
      "A   13     170  NaN\n",
      "B   24     168    f\n",
      "C   32     172    f\n",
      "D   45     167  NaN\n"
     ]
    }
   ],
   "source": [
    "print(score)"
   ]
  },
  {
   "cell_type": "code",
   "execution_count": 151,
   "metadata": {},
   "outputs": [
    {
     "name": "stdout",
     "output_type": "stream",
     "text": [
      "   age  height sex\n",
      "B   24     168   f\n",
      "C   32     172   f\n"
     ]
    }
   ],
   "source": [
    "print(score.dropna())"
   ]
  },
  {
   "cell_type": "code",
   "execution_count": 152,
   "metadata": {},
   "outputs": [
    {
     "name": "stdout",
     "output_type": "stream",
     "text": [
      "   age  height  sex\n",
      "A   13     170  NaN\n",
      "B   24     168    f\n",
      "C   32     172    f\n",
      "D   45     167  NaN\n"
     ]
    }
   ],
   "source": [
    "print(score.dropna(how='all'))"
   ]
  },
  {
   "cell_type": "markdown",
   "metadata": {},
   "source": [
    "#### `3.4)填充空数据`\n",
    "`score.fillna(value=None, method=None, axis=None, inplace=False, limit=None, downcast=None, **kwargs)`\n",
    "\n",
    "`Fill NA/NaN values using the specified method`"
   ]
  },
  {
   "cell_type": "code",
   "execution_count": 153,
   "metadata": {},
   "outputs": [
    {
     "name": "stdout",
     "output_type": "stream",
     "text": [
      "   age  height sex\n",
      "A   13     170   0\n",
      "B   24     168   f\n",
      "C   32     172   f\n",
      "D   45     167   0\n"
     ]
    }
   ],
   "source": [
    "print(score.fillna(value=0))"
   ]
  },
  {
   "cell_type": "code",
   "execution_count": 156,
   "metadata": {
    "scrolled": true
   },
   "outputs": [
    {
     "name": "stdout",
     "output_type": "stream",
     "text": [
      "   age  height  sex\n",
      "A   13     170    f\n",
      "B   24     168    f\n",
      "C   32     172    f\n",
      "D   45     167  NaN\n"
     ]
    }
   ],
   "source": [
    "print(score.fillna(method='backfill'))"
   ]
  },
  {
   "cell_type": "code",
   "execution_count": 159,
   "metadata": {},
   "outputs": [
    {
     "name": "stdout",
     "output_type": "stream",
     "text": [
      "  age height  sex\n",
      "A  13    170  170\n",
      "B  24    168    f\n",
      "C  32    172    f\n",
      "D  45    167  167\n"
     ]
    }
   ],
   "source": [
    "print(score.fillna(method='ffill', axis=1))"
   ]
  },
  {
   "cell_type": "code",
   "execution_count": 163,
   "metadata": {
    "scrolled": true
   },
   "outputs": [
    {
     "name": "stdout",
     "output_type": "stream",
     "text": [
      "   age  height  sex\n",
      "A   13     170    f\n",
      "B   24     168    f\n",
      "C   32     172    f\n",
      "D   45     167  NaN\n"
     ]
    }
   ],
   "source": [
    "score.fillna(method='backfill', inplace=True)\n",
    "print(score)"
   ]
  },
  {
   "cell_type": "code",
   "execution_count": 164,
   "metadata": {
    "scrolled": true
   },
   "outputs": [
    {
     "name": "stdout",
     "output_type": "stream",
     "text": [
      "   age  height sex\n",
      "A   13     170   f\n",
      "B   24     168   f\n",
      "C   32     172   f\n",
      "D   45     167   f\n"
     ]
    }
   ],
   "source": [
    "score.fillna(method='ffill', inplace=True)\n",
    "print(score)"
   ]
  },
  {
   "cell_type": "markdown",
   "metadata": {},
   "source": [
    "# `4)pandas多层索引`"
   ]
  },
  {
   "cell_type": "markdown",
   "metadata": {},
   "source": [
    "### `4.1)多层行索引`"
   ]
  },
  {
   "cell_type": "code",
   "execution_count": 3,
   "metadata": {
    "scrolled": true
   },
   "outputs": [
    {
     "data": {
      "text/html": [
       "<div>\n",
       "<style scoped>\n",
       "    .dataframe tbody tr th:only-of-type {\n",
       "        vertical-align: middle;\n",
       "    }\n",
       "\n",
       "    .dataframe tbody tr th {\n",
       "        vertical-align: top;\n",
       "    }\n",
       "\n",
       "    .dataframe thead th {\n",
       "        text-align: right;\n",
       "    }\n",
       "</style>\n",
       "<table border=\"1\" class=\"dataframe\">\n",
       "  <thead>\n",
       "    <tr style=\"text-align: right;\">\n",
       "      <th></th>\n",
       "      <th></th>\n",
       "      <th>pytohn</th>\n",
       "      <th>java</th>\n",
       "      <th>database</th>\n",
       "    </tr>\n",
       "  </thead>\n",
       "  <tbody>\n",
       "    <tr>\n",
       "      <th rowspan=\"2\" valign=\"top\">A</th>\n",
       "      <th>期中</th>\n",
       "      <td>97</td>\n",
       "      <td>148</td>\n",
       "      <td>84</td>\n",
       "    </tr>\n",
       "    <tr>\n",
       "      <th>期末</th>\n",
       "      <td>73</td>\n",
       "      <td>110</td>\n",
       "      <td>146</td>\n",
       "    </tr>\n",
       "    <tr>\n",
       "      <th rowspan=\"2\" valign=\"top\">B</th>\n",
       "      <th>期中</th>\n",
       "      <td>61</td>\n",
       "      <td>105</td>\n",
       "      <td>129</td>\n",
       "    </tr>\n",
       "    <tr>\n",
       "      <th>期末</th>\n",
       "      <td>148</td>\n",
       "      <td>145</td>\n",
       "      <td>60</td>\n",
       "    </tr>\n",
       "    <tr>\n",
       "      <th rowspan=\"2\" valign=\"top\">C</th>\n",
       "      <th>期中</th>\n",
       "      <td>64</td>\n",
       "      <td>89</td>\n",
       "      <td>146</td>\n",
       "    </tr>\n",
       "    <tr>\n",
       "      <th>期末</th>\n",
       "      <td>67</td>\n",
       "      <td>108</td>\n",
       "      <td>68</td>\n",
       "    </tr>\n",
       "  </tbody>\n",
       "</table>\n",
       "</div>"
      ],
      "text/plain": [
       "      pytohn  java  database\n",
       "A 期中      97   148        84\n",
       "  期末      73   110       146\n",
       "B 期中      61   105       129\n",
       "  期末     148   145        60\n",
       "C 期中      64    89       146\n",
       "  期末      67   108        68"
      ]
     },
     "metadata": {},
     "output_type": "display_data"
    }
   ],
   "source": [
    "df1 = DataFrame(data=np.random.randint(60, 150, size=(6, 3)), \n",
    "               index=pd.MultiIndex.from_product([['A', 'B', 'C'], ['期中', '期末']]), \n",
    "               columns=['pytohn', 'java', 'database'])\n",
    "display(df1)"
   ]
  },
  {
   "cell_type": "markdown",
   "metadata": {},
   "source": [
    "### `4.2)多层列索引`"
   ]
  },
  {
   "cell_type": "code",
   "execution_count": 6,
   "metadata": {
    "scrolled": false
   },
   "outputs": [
    {
     "data": {
      "text/html": [
       "<div>\n",
       "<style scoped>\n",
       "    .dataframe tbody tr th:only-of-type {\n",
       "        vertical-align: middle;\n",
       "    }\n",
       "\n",
       "    .dataframe tbody tr th {\n",
       "        vertical-align: top;\n",
       "    }\n",
       "\n",
       "    .dataframe thead tr th {\n",
       "        text-align: left;\n",
       "    }\n",
       "</style>\n",
       "<table border=\"1\" class=\"dataframe\">\n",
       "  <thead>\n",
       "    <tr>\n",
       "      <th></th>\n",
       "      <th colspan=\"2\" halign=\"left\">pytohn</th>\n",
       "      <th colspan=\"2\" halign=\"left\">java</th>\n",
       "      <th colspan=\"2\" halign=\"left\">database</th>\n",
       "    </tr>\n",
       "    <tr>\n",
       "      <th></th>\n",
       "      <th>期中</th>\n",
       "      <th>期末</th>\n",
       "      <th>期中</th>\n",
       "      <th>期末</th>\n",
       "      <th>期中</th>\n",
       "      <th>期末</th>\n",
       "    </tr>\n",
       "  </thead>\n",
       "  <tbody>\n",
       "    <tr>\n",
       "      <th>A</th>\n",
       "      <td>138</td>\n",
       "      <td>111</td>\n",
       "      <td>121</td>\n",
       "      <td>75</td>\n",
       "      <td>77</td>\n",
       "      <td>68</td>\n",
       "    </tr>\n",
       "    <tr>\n",
       "      <th>B</th>\n",
       "      <td>90</td>\n",
       "      <td>121</td>\n",
       "      <td>99</td>\n",
       "      <td>117</td>\n",
       "      <td>102</td>\n",
       "      <td>87</td>\n",
       "    </tr>\n",
       "    <tr>\n",
       "      <th>C</th>\n",
       "      <td>79</td>\n",
       "      <td>108</td>\n",
       "      <td>87</td>\n",
       "      <td>86</td>\n",
       "      <td>93</td>\n",
       "      <td>141</td>\n",
       "    </tr>\n",
       "  </tbody>\n",
       "</table>\n",
       "</div>"
      ],
      "text/plain": [
       "  pytohn      java      database     \n",
       "      期中   期末   期中   期末       期中   期末\n",
       "A    138  111  121   75       77   68\n",
       "B     90  121   99  117      102   87\n",
       "C     79  108   87   86       93  141"
      ]
     },
     "metadata": {},
     "output_type": "display_data"
    }
   ],
   "source": [
    "df2 = DataFrame(data=np.random.randint(60, 150, size=(3, 6)), \n",
    "               index=['A', 'B', 'C'], \n",
    "               columns=pd.MultiIndex.from_product([['pytohn', 'java', 'database'], ['期中', '期末']]))\n",
    "display(df2)"
   ]
  },
  {
   "cell_type": "markdown",
   "metadata": {},
   "source": [
    "# `5)pandas数据合并`"
   ]
  },
  {
   "cell_type": "code",
   "execution_count": 2,
   "metadata": {},
   "outputs": [],
   "source": [
    "# 定义dataframe生成函数\n",
    "def make_df(index, columns):\n",
    "    data = {c:[c + str(i) for i in index] for c in columns}\n",
    "    return DataFrame(data, index=index, columns=columns)"
   ]
  },
  {
   "cell_type": "code",
   "execution_count": 3,
   "metadata": {},
   "outputs": [
    {
     "data": {
      "text/html": [
       "<div>\n",
       "<style scoped>\n",
       "    .dataframe tbody tr th:only-of-type {\n",
       "        vertical-align: middle;\n",
       "    }\n",
       "\n",
       "    .dataframe tbody tr th {\n",
       "        vertical-align: top;\n",
       "    }\n",
       "\n",
       "    .dataframe thead th {\n",
       "        text-align: right;\n",
       "    }\n",
       "</style>\n",
       "<table border=\"1\" class=\"dataframe\">\n",
       "  <thead>\n",
       "    <tr style=\"text-align: right;\">\n",
       "      <th></th>\n",
       "      <th>A</th>\n",
       "      <th>B</th>\n",
       "    </tr>\n",
       "  </thead>\n",
       "  <tbody>\n",
       "    <tr>\n",
       "      <th>1</th>\n",
       "      <td>A1</td>\n",
       "      <td>B1</td>\n",
       "    </tr>\n",
       "    <tr>\n",
       "      <th>2</th>\n",
       "      <td>A2</td>\n",
       "      <td>B2</td>\n",
       "    </tr>\n",
       "  </tbody>\n",
       "</table>\n",
       "</div>"
      ],
      "text/plain": [
       "    A   B\n",
       "1  A1  B1\n",
       "2  A2  B2"
      ]
     },
     "execution_count": 3,
     "metadata": {},
     "output_type": "execute_result"
    }
   ],
   "source": [
    "make_df([1, 2], ['A', 'B'])"
   ]
  },
  {
   "cell_type": "markdown",
   "metadata": {},
   "source": [
    "### `5.1)pd.concat`\n",
    "`pd.concat(objs, axis=0, join='outer', join_axes=None, ignore_index=False, keys=None, levels=None, names=None, verify_integrity=False, copy=True)`\n",
    "\n",
    "`Concatenate pandas objects along a particular axis with optional set logic`"
   ]
  },
  {
   "cell_type": "code",
   "execution_count": 4,
   "metadata": {},
   "outputs": [
    {
     "data": {
      "text/html": [
       "<div>\n",
       "<style scoped>\n",
       "    .dataframe tbody tr th:only-of-type {\n",
       "        vertical-align: middle;\n",
       "    }\n",
       "\n",
       "    .dataframe tbody tr th {\n",
       "        vertical-align: top;\n",
       "    }\n",
       "\n",
       "    .dataframe thead th {\n",
       "        text-align: right;\n",
       "    }\n",
       "</style>\n",
       "<table border=\"1\" class=\"dataframe\">\n",
       "  <thead>\n",
       "    <tr style=\"text-align: right;\">\n",
       "      <th></th>\n",
       "      <th>A</th>\n",
       "      <th>B</th>\n",
       "    </tr>\n",
       "  </thead>\n",
       "  <tbody>\n",
       "    <tr>\n",
       "      <th>1</th>\n",
       "      <td>A1</td>\n",
       "      <td>B1</td>\n",
       "    </tr>\n",
       "    <tr>\n",
       "      <th>2</th>\n",
       "      <td>A2</td>\n",
       "      <td>B2</td>\n",
       "    </tr>\n",
       "    <tr>\n",
       "      <th>3</th>\n",
       "      <td>A3</td>\n",
       "      <td>B3</td>\n",
       "    </tr>\n",
       "    <tr>\n",
       "      <th>4</th>\n",
       "      <td>A4</td>\n",
       "      <td>B4</td>\n",
       "    </tr>\n",
       "  </tbody>\n",
       "</table>\n",
       "</div>"
      ],
      "text/plain": [
       "    A   B\n",
       "1  A1  B1\n",
       "2  A2  B2\n",
       "3  A3  B3\n",
       "4  A4  B4"
      ]
     },
     "execution_count": 4,
     "metadata": {},
     "output_type": "execute_result"
    }
   ],
   "source": [
    "df1 = make_df([1, 2], ['A', 'B'])\n",
    "df2 = make_df([3, 4], ['A', 'B'])\n",
    "pd.concat((df1, df2), axis=0)"
   ]
  },
  {
   "cell_type": "code",
   "execution_count": 5,
   "metadata": {
    "scrolled": true
   },
   "outputs": [
    {
     "data": {
      "text/html": [
       "<div>\n",
       "<style scoped>\n",
       "    .dataframe tbody tr th:only-of-type {\n",
       "        vertical-align: middle;\n",
       "    }\n",
       "\n",
       "    .dataframe tbody tr th {\n",
       "        vertical-align: top;\n",
       "    }\n",
       "\n",
       "    .dataframe thead th {\n",
       "        text-align: right;\n",
       "    }\n",
       "</style>\n",
       "<table border=\"1\" class=\"dataframe\">\n",
       "  <thead>\n",
       "    <tr style=\"text-align: right;\">\n",
       "      <th></th>\n",
       "      <th>A</th>\n",
       "      <th>B</th>\n",
       "    </tr>\n",
       "  </thead>\n",
       "  <tbody>\n",
       "    <tr>\n",
       "      <th>1</th>\n",
       "      <td>A1</td>\n",
       "      <td>B1</td>\n",
       "    </tr>\n",
       "    <tr>\n",
       "      <th>2</th>\n",
       "      <td>A2</td>\n",
       "      <td>B2</td>\n",
       "    </tr>\n",
       "    <tr>\n",
       "      <th>2</th>\n",
       "      <td>A2</td>\n",
       "      <td>B2</td>\n",
       "    </tr>\n",
       "    <tr>\n",
       "      <th>3</th>\n",
       "      <td>A3</td>\n",
       "      <td>B3</td>\n",
       "    </tr>\n",
       "  </tbody>\n",
       "</table>\n",
       "</div>"
      ],
      "text/plain": [
       "    A   B\n",
       "1  A1  B1\n",
       "2  A2  B2\n",
       "2  A2  B2\n",
       "3  A3  B3"
      ]
     },
     "execution_count": 5,
     "metadata": {},
     "output_type": "execute_result"
    }
   ],
   "source": [
    "# index可重复\n",
    "df1 = make_df([1, 2], ['A', 'B'])\n",
    "df2 = make_df([2, 3], ['A', 'B'])\n",
    "pd.concat((df1, df2), axis=0)"
   ]
  },
  {
   "cell_type": "markdown",
   "metadata": {},
   "source": [
    "### `5.2)忽略索引、重新排列索引`"
   ]
  },
  {
   "cell_type": "code",
   "execution_count": 7,
   "metadata": {},
   "outputs": [
    {
     "data": {
      "text/html": [
       "<div>\n",
       "<style scoped>\n",
       "    .dataframe tbody tr th:only-of-type {\n",
       "        vertical-align: middle;\n",
       "    }\n",
       "\n",
       "    .dataframe tbody tr th {\n",
       "        vertical-align: top;\n",
       "    }\n",
       "\n",
       "    .dataframe thead th {\n",
       "        text-align: right;\n",
       "    }\n",
       "</style>\n",
       "<table border=\"1\" class=\"dataframe\">\n",
       "  <thead>\n",
       "    <tr style=\"text-align: right;\">\n",
       "      <th></th>\n",
       "      <th>A</th>\n",
       "      <th>B</th>\n",
       "    </tr>\n",
       "  </thead>\n",
       "  <tbody>\n",
       "    <tr>\n",
       "      <th>0</th>\n",
       "      <td>A1</td>\n",
       "      <td>B1</td>\n",
       "    </tr>\n",
       "    <tr>\n",
       "      <th>1</th>\n",
       "      <td>A2</td>\n",
       "      <td>B2</td>\n",
       "    </tr>\n",
       "    <tr>\n",
       "      <th>2</th>\n",
       "      <td>A2</td>\n",
       "      <td>B2</td>\n",
       "    </tr>\n",
       "    <tr>\n",
       "      <th>3</th>\n",
       "      <td>A3</td>\n",
       "      <td>B3</td>\n",
       "    </tr>\n",
       "  </tbody>\n",
       "</table>\n",
       "</div>"
      ],
      "text/plain": [
       "    A   B\n",
       "0  A1  B1\n",
       "1  A2  B2\n",
       "2  A2  B2\n",
       "3  A3  B3"
      ]
     },
     "execution_count": 7,
     "metadata": {},
     "output_type": "execute_result"
    }
   ],
   "source": [
    "pd.concat((df1, df2), ignore_index=True)"
   ]
  },
  {
   "cell_type": "markdown",
   "metadata": {},
   "source": [
    "### `5.3)使用多层索引`"
   ]
  },
  {
   "cell_type": "code",
   "execution_count": 12,
   "metadata": {},
   "outputs": [
    {
     "data": {
      "text/html": [
       "<div>\n",
       "<style scoped>\n",
       "    .dataframe tbody tr th:only-of-type {\n",
       "        vertical-align: middle;\n",
       "    }\n",
       "\n",
       "    .dataframe tbody tr th {\n",
       "        vertical-align: top;\n",
       "    }\n",
       "\n",
       "    .dataframe thead th {\n",
       "        text-align: right;\n",
       "    }\n",
       "</style>\n",
       "<table border=\"1\" class=\"dataframe\">\n",
       "  <thead>\n",
       "    <tr style=\"text-align: right;\">\n",
       "      <th></th>\n",
       "      <th></th>\n",
       "      <th>X</th>\n",
       "      <th>Y</th>\n",
       "    </tr>\n",
       "  </thead>\n",
       "  <tbody>\n",
       "    <tr>\n",
       "      <th rowspan=\"2\" valign=\"top\">small</th>\n",
       "      <th>a</th>\n",
       "      <td>Xa</td>\n",
       "      <td>Ya</td>\n",
       "    </tr>\n",
       "    <tr>\n",
       "      <th>b</th>\n",
       "      <td>Xb</td>\n",
       "      <td>Yb</td>\n",
       "    </tr>\n",
       "    <tr>\n",
       "      <th rowspan=\"2\" valign=\"top\">big</th>\n",
       "      <th>A</th>\n",
       "      <td>XA</td>\n",
       "      <td>YA</td>\n",
       "    </tr>\n",
       "    <tr>\n",
       "      <th>B</th>\n",
       "      <td>XB</td>\n",
       "      <td>YB</td>\n",
       "    </tr>\n",
       "  </tbody>\n",
       "</table>\n",
       "</div>"
      ],
      "text/plain": [
       "          X   Y\n",
       "small a  Xa  Ya\n",
       "      b  Xb  Yb\n",
       "big   A  XA  YA\n",
       "      B  XB  YB"
      ]
     },
     "execution_count": 12,
     "metadata": {},
     "output_type": "execute_result"
    }
   ],
   "source": [
    "df1 = make_df(['a', 'b'], ['X', 'Y'])\n",
    "df2 = make_df(['A', 'B'], ['X', 'Y'])\n",
    "# keys使合并后的数据更加清晰\n",
    "pd.concat((df1, df2), keys=['small', 'big'], axis=0)"
   ]
  }
 ],
 "metadata": {
  "kernelspec": {
   "display_name": "Python 3",
   "language": "python",
   "name": "python3"
  },
  "language_info": {
   "codemirror_mode": {
    "name": "ipython",
    "version": 3
   },
   "file_extension": ".py",
   "mimetype": "text/x-python",
   "name": "python",
   "nbconvert_exporter": "python",
   "pygments_lexer": "ipython3",
   "version": "3.6.4"
  }
 },
 "nbformat": 4,
 "nbformat_minor": 2
}
